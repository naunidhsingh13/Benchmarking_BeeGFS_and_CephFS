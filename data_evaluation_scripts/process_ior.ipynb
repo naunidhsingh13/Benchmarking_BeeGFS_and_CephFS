{
 "cells": [
  {
   "cell_type": "code",
   "execution_count": 44,
   "metadata": {},
   "outputs": [],
   "source": [
    "import pandas as pd\n",
    "import numpy as np\n",
    "from datetime import datetime\n",
    "import re\n",
    "import os"
   ]
  },
  {
   "cell_type": "code",
   "execution_count": 34,
   "metadata": {},
   "outputs": [],
   "source": [
    "RE_SPACE = re.compile(r'[\\s]+')"
   ]
  },
  {
   "cell_type": "code",
   "execution_count": 3,
   "metadata": {},
   "outputs": [],
   "source": [
    "path = \"BENCHMARKS/csv_stuff-20210425074213/block128m_transfer1mb_ioop-z\""
   ]
  },
  {
   "cell_type": "code",
   "execution_count": 66,
   "metadata": {},
   "outputs": [],
   "source": [
    "def print_data(fpath):\n",
    "    start = None\n",
    "    end = None\n",
    "    ordering = None\n",
    "    xfersize = None\n",
    "    r_tp = None\n",
    "    w_tp = None\n",
    "    r_iops = None\n",
    "    w_iops = None\n",
    "    time_taken = None\n",
    "\n",
    "    with open(fpath+\"/ior_op.dat\", 'r') as f:\n",
    "        for line in f:\n",
    "            if \"StartTime\" in line:\n",
    "                start = line.split(\": \")[1].strip()\n",
    "                start = datetime.strptime(start, '%a %b %d %H:%M:%S %Y')\n",
    "            if \"ordering in a file\" in line:\n",
    "                ordering = line.split(\": \")[1].strip()\n",
    "            if \"xfersize\" in line:\n",
    "                xfersize = line.split(\": \")[1].strip()\n",
    "            if \"Finished\" in line:\n",
    "                end = line.split(\": \")[1].strip()\n",
    "                end = datetime.strptime(end, '%a %b %d %H:%M:%S %Y')\n",
    "            if \"bw(MiB/s)\" in line:\n",
    "                line = next(f)\n",
    "                line = next(f)\n",
    "                x = re.split(RE_SPACE, line)\n",
    "                w_tp = float(x[1])\n",
    "                w_iops = float(x[3])\n",
    "\n",
    "                line = next(f)\n",
    "                x = re.split(RE_SPACE, line)\n",
    "                r_tp = float(x[1])\n",
    "                r_iops = float(x[3])\n",
    "\n",
    "    time_taken = end-start\n",
    "#     print(\"{} - {} = {}\".format(end, start, time_taken))\n",
    "#     print(xfersize)\n",
    "#     print(w_tp, w_iops)\n",
    "#     print(r_tp, r_iops)\n",
    "    return r_tp, w_tp, r_iops, w_iops"
   ]
  },
  {
   "cell_type": "code",
   "execution_count": 50,
   "metadata": {},
   "outputs": [
    {
     "data": {
      "text/plain": [
       "'asdf\\tasdf'"
      ]
     },
     "execution_count": 50,
     "metadata": {},
     "output_type": "execute_result"
    }
   ],
   "source": [
    "# print(\"{} - {} = {}\".format(end, start, time_taken))\n",
    "# print(xfersize)\n",
    "# print(w_tp, w_iops)\n",
    "# print(r_tp,r_iops)"
   ]
  },
  {
   "cell_type": "code",
   "execution_count": 43,
   "metadata": {},
   "outputs": [
    {
     "name": "stdout",
     "output_type": "stream",
     "text": [
      "2021-04-25 07:50:32 - 2021-04-25 07:48:47 = 0:01:45\n",
      "1 MiB\n",
      "157.46 157.52\n",
      "93.21 93.23\n"
     ]
    }
   ],
   "source": [
    "print_data(path)"
   ]
  },
  {
   "cell_type": "code",
   "execution_count": 67,
   "metadata": {},
   "outputs": [
    {
     "name": "stdout",
     "output_type": "stream",
     "text": [
      "btrfs\n",
      "==========\n",
      "default_4KB\n",
      "----------\n",
      "block128m_transfer16mb_ioop\n",
      "block128m_transfer16mb_ioop-z\n",
      "block128m_transfer1mb_ioop\n",
      "block128m_transfer1mb_ioop-z\n",
      "block128m_transfer64kb_ioop\n",
      "block128m_transfer64kb_ioop-z\n",
      "96.01\t170.54\t7.24\t0.685945\t97.14\t178.86\t6.76\t0.958324\t95.98\t177.1\t0.464974\t0.029965\t95.06\t184.0\t0.42882\t0.009422\t41.64\t140.54\t0.072008\t0.003542\t29.67\t132.72\t0.100481\t0.004776\n",
      "ext4\n",
      "==========\n",
      "1KB\n",
      "----------\n",
      "block128m_transfer16mb_ioop\n",
      "block128m_transfer16mb_ioop-z\n",
      "block128m_transfer1mb_ioop\n",
      "block128m_transfer1mb_ioop-z\n",
      "block128m_transfer64kb_ioop\n",
      "block128m_transfer64kb_ioop-z\n",
      "100.76\t157.14\t7.62\t2.52\t99.43\t154.75\t7.26\t1.16\t102.82\t152.35\t0.464288\t0.137032\t91.38\t123.77\t0.489158\t0.014129\t51.26\t132.59\t0.058499\t0.022619\t30.37\t36.08\t0.089928\t0.036643\n",
      "2KB\n",
      "----------\n",
      "block128m_transfer16mb_ioop\n",
      "block128m_transfer16mb_ioop-z\n",
      "block128m_transfer1mb_ioop\n",
      "block128m_transfer1mb_ioop-z\n",
      "block128m_transfer64kb_ioop\n",
      "block128m_transfer64kb_ioop-z\n",
      "102.87\t164.35\t6.95\t0.148613\t102.71\t166.31\t6.5\t4.42\t100.4\t163.08\t0.410747\t0.106844\t96.84\t122.67\t0.421473\t0.10906\t51.35\t142.78\t0.056278\t0.020132\t31.12\t35.84\t0.095379\t0.06778\n",
      "default_4KB\n",
      "----------\n",
      "block128m_transfer16mb_ioop\n",
      "block128m_transfer16mb_ioop-z\n",
      "block128m_transfer1mb_ioop\n",
      "block128m_transfer1mb_ioop-z\n",
      "block128m_transfer64kb_ioop\n",
      "block128m_transfer64kb_ioop-z\n",
      "102.1\t165.78\t6.25\t1.66\t54.58\t93.56\t12.81\t3.85\t100.71\t169.46\t0.460778\t0.193542\t95.53\t117.17\t0.463918\t0.307833\t50.1\t142.01\t0.059362\t0.007201\t13.11\t16.56\t0.215059\t0.176427\n",
      "f2fs\n",
      "==========\n",
      "default_512k\n",
      "----------\n",
      "block128m_transfer16mb_ioop\n",
      "block128m_transfer16mb_ioop-z\n",
      "block128m_transfer1mb_ioop\n",
      "block128m_transfer1mb_ioop-z\n",
      "block128m_transfer64kb_ioop\n",
      "block128m_transfer64kb_ioop-z\n",
      "97.0\t177.12\t7.75\t4.19\t98.7\t172.73\t6.38\t1.38\t101.08\t166.05\t0.463004\t0.066348\t92.81\t177.02\t0.517034\t0.019421\t42.66\t170.7\t0.069317\t0.013449\t33.41\t179.88\t0.088572\t0.008422\n",
      "xfs\n",
      "==========\n",
      "1KB\n",
      "----------\n",
      "block128m_transfer16mb_ioop\n",
      "block128m_transfer16mb_ioop-z\n",
      "block128m_transfer1mb_ioop\n",
      "block128m_transfer1mb_ioop-z\n",
      "block128m_transfer64kb_ioop\n",
      "block128m_transfer64kb_ioop-z\n",
      "101.92\t141.59\t7.19\t3.46\t97.61\t140.26\t6.99\t1.11\t98.84\t141.56\t0.483717\t0.152858\t93.71\t138.66\t0.417499\t0.17878\t47.82\t132.38\t0.060761\t0.012479\t27.84\t95.44\t0.105391\t0.023347\n",
      "2KB\n",
      "----------\n",
      "block128m_transfer16mb_ioop\n",
      "block128m_transfer16mb_ioop-z\n",
      "block128m_transfer1mb_ioop\n",
      "block128m_transfer1mb_ioop-z\n",
      "block128m_transfer64kb_ioop\n",
      "block128m_transfer64kb_ioop-z\n",
      "100.49\t160.56\t7.2\t4.77\t99.83\t150.69\t7.23\t0.143059\t100.98\t149.03\t0.426638\t0.242696\t95.16\t152.32\t0.504305\t0.026361\t43.38\t142.29\t0.069034\t0.021015\t31.96\t106.89\t0.092515\t0.02806\n",
      "default_4KB\n",
      "----------\n",
      "block128m_transfer16mb_ioop\n",
      "block128m_transfer16mb_ioop-z\n",
      "block128m_transfer1mb_ioop\n",
      "block128m_transfer1mb_ioop-z\n",
      "block128m_transfer64kb_ioop\n",
      "block128m_transfer64kb_ioop-z\n",
      "97.53\t159.21\t7.73\t1.07\t96.46\t148.67\t6.81\t0.225592\t98.81\t162.26\t0.475794\t0.106653\t94.03\t171.06\t0.502696\t0.055327\t42.44\t148.89\t0.06939\t0.01721\t31.06\t129.65\t0.096156\t0.016999\n"
     ]
    }
   ],
   "source": [
    "final_path = \"final_data\"\n",
    "for fs in os.listdir(final_path):\n",
    "    print(fs)\n",
    "    print(\"=\"*10)\n",
    "    for bsize in os.listdir(final_path+\"/\"+fs):\n",
    "        print(bsize)\n",
    "        print(\"-\"*10)\n",
    "        b_path = final_path+\"/\"+fs + \"/\"+bsize+\"/\"\n",
    "        b_path = b_path+\"/\"+os.listdir(b_path)[0]\n",
    "        lin = []\n",
    "        for file in os.listdir(b_path):\n",
    "            if \"block\" in file:\n",
    "#                 if \"-z\" in file:\n",
    "#                     print(\"->Random\")\n",
    "#                 else:\n",
    "#                     print(\"->Sequential\")\n",
    "                ior_path = b_path+\"/\"+file\n",
    "#                 print(print_data(ior_path))\n",
    "                lin += [str(i) for i in print_data(ior_path)]\n",
    "#                 print()\n",
    "        print(\"\\t\".join(lin))"
   ]
  },
  {
   "cell_type": "code",
   "execution_count": null,
   "metadata": {},
   "outputs": [],
   "source": []
  }
 ],
 "metadata": {
  "kernelspec": {
   "display_name": "Python 3",
   "language": "python",
   "name": "python3"
  },
  "language_info": {
   "codemirror_mode": {
    "name": "ipython",
    "version": 3
   },
   "file_extension": ".py",
   "mimetype": "text/x-python",
   "name": "python",
   "nbconvert_exporter": "python",
   "pygments_lexer": "ipython3",
   "version": "3.8.5"
  }
 },
 "nbformat": 4,
 "nbformat_minor": 4
}
