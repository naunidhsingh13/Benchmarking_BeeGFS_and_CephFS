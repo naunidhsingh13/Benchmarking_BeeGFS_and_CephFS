{
 "cells": [
  {
   "cell_type": "code",
   "execution_count": 1,
   "metadata": {},
   "outputs": [],
   "source": [
    "import pandas as pd\n",
    "import matplotlib.pyplot as plt\n",
    "import os\n",
    "from io import BytesIO"
   ]
  },
  {
   "cell_type": "code",
   "execution_count": 2,
   "metadata": {},
   "outputs": [],
   "source": [
    "file_path = \"BENCHMARKS/csv_stuff-20210422234511/io.csv\""
   ]
  },
  {
   "cell_type": "code",
   "execution_count": 34,
   "metadata": {},
   "outputs": [],
   "source": [
    "sd = \"sda2\""
   ]
  },
  {
   "cell_type": "code",
   "execution_count": 3,
   "metadata": {},
   "outputs": [],
   "source": [
    "content = \"\"\n",
    "with open(file_path, 'r') as f:\n",
    "    for line in f.readlines():\n",
    "        if \"#\" in line:\n",
    "            header = line\n",
    "        else:\n",
    "            content += line\n",
    "\n",
    "content = header+content"
   ]
  },
  {
   "cell_type": "code",
   "execution_count": 4,
   "metadata": {},
   "outputs": [
    {
     "data": {
      "text/plain": [
       "'# hostname;interval;timestamp;DEV;tps;rkB/s;wkB/s;areq-sz;aqu-sz;await;svctm;%util\\n'"
      ]
     },
     "execution_count": 4,
     "metadata": {},
     "output_type": "execute_result"
    }
   ],
   "source": [
    "header"
   ]
  },
  {
   "cell_type": "code",
   "execution_count": 5,
   "metadata": {},
   "outputs": [],
   "source": [
    "content_stream = BytesIO(content.encode())"
   ]
  },
  {
   "cell_type": "code",
   "execution_count": 6,
   "metadata": {},
   "outputs": [],
   "source": [
    "df = pd.read_csv(content_stream, delimiter=';')"
   ]
  },
  {
   "cell_type": "code",
   "execution_count": 7,
   "metadata": {},
   "outputs": [],
   "source": [
    "grpd = df.groupby(\"# hostname\")"
   ]
  },
  {
   "cell_type": "code",
   "execution_count": 44,
   "metadata": {},
   "outputs": [],
   "source": [
    "s1_df = grpd.get_group(\"an-sap-s-1\")"
   ]
  },
  {
   "cell_type": "code",
   "execution_count": 45,
   "metadata": {},
   "outputs": [],
   "source": [
    "s1_df = s1_df[s1_df[\"DEV\"]==sd].reset_index(drop=True)"
   ]
  },
  {
   "cell_type": "code",
   "execution_count": 46,
   "metadata": {},
   "outputs": [],
   "source": [
    "s2_df = grpd.get_group(\"an-sap-s-2\")"
   ]
  },
  {
   "cell_type": "code",
   "execution_count": 47,
   "metadata": {},
   "outputs": [],
   "source": [
    "s2_df = s2_df[s2_df[\"DEV\"]==sd].reset_index(drop=True)"
   ]
  },
  {
   "cell_type": "code",
   "execution_count": 48,
   "metadata": {},
   "outputs": [
    {
     "data": {
      "text/html": [
       "<div>\n",
       "<style scoped>\n",
       "    .dataframe tbody tr th:only-of-type {\n",
       "        vertical-align: middle;\n",
       "    }\n",
       "\n",
       "    .dataframe tbody tr th {\n",
       "        vertical-align: top;\n",
       "    }\n",
       "\n",
       "    .dataframe thead th {\n",
       "        text-align: right;\n",
       "    }\n",
       "</style>\n",
       "<table border=\"1\" class=\"dataframe\">\n",
       "  <thead>\n",
       "    <tr style=\"text-align: right;\">\n",
       "      <th></th>\n",
       "      <th># hostname</th>\n",
       "      <th>interval</th>\n",
       "      <th>timestamp</th>\n",
       "      <th>DEV</th>\n",
       "      <th>tps</th>\n",
       "      <th>rkB/s</th>\n",
       "      <th>wkB/s</th>\n",
       "      <th>areq-sz</th>\n",
       "      <th>aqu-sz</th>\n",
       "      <th>await</th>\n",
       "      <th>svctm</th>\n",
       "      <th>%util</th>\n",
       "    </tr>\n",
       "  </thead>\n",
       "  <tbody>\n",
       "    <tr>\n",
       "      <th>0</th>\n",
       "      <td>an-sap-s-1</td>\n",
       "      <td>1</td>\n",
       "      <td>2021-04-22 23:45:13 UTC</td>\n",
       "      <td>sda2</td>\n",
       "      <td>233.0</td>\n",
       "      <td>0.0</td>\n",
       "      <td>59648.0</td>\n",
       "      <td>256.0</td>\n",
       "      <td>0.72</td>\n",
       "      <td>3.07</td>\n",
       "      <td>2.13</td>\n",
       "      <td>49.6</td>\n",
       "    </tr>\n",
       "    <tr>\n",
       "      <th>1</th>\n",
       "      <td>an-sap-s-1</td>\n",
       "      <td>1</td>\n",
       "      <td>2021-04-22 23:45:14 UTC</td>\n",
       "      <td>sda2</td>\n",
       "      <td>368.0</td>\n",
       "      <td>0.0</td>\n",
       "      <td>94208.0</td>\n",
       "      <td>256.0</td>\n",
       "      <td>1.06</td>\n",
       "      <td>2.91</td>\n",
       "      <td>1.92</td>\n",
       "      <td>70.8</td>\n",
       "    </tr>\n",
       "    <tr>\n",
       "      <th>2</th>\n",
       "      <td>an-sap-s-1</td>\n",
       "      <td>1</td>\n",
       "      <td>2021-04-22 23:45:15 UTC</td>\n",
       "      <td>sda2</td>\n",
       "      <td>391.0</td>\n",
       "      <td>0.0</td>\n",
       "      <td>100096.0</td>\n",
       "      <td>256.0</td>\n",
       "      <td>0.97</td>\n",
       "      <td>2.49</td>\n",
       "      <td>1.75</td>\n",
       "      <td>68.4</td>\n",
       "    </tr>\n",
       "    <tr>\n",
       "      <th>3</th>\n",
       "      <td>an-sap-s-1</td>\n",
       "      <td>1</td>\n",
       "      <td>2021-04-22 23:45:16 UTC</td>\n",
       "      <td>sda2</td>\n",
       "      <td>400.0</td>\n",
       "      <td>0.0</td>\n",
       "      <td>102400.0</td>\n",
       "      <td>256.0</td>\n",
       "      <td>0.82</td>\n",
       "      <td>2.05</td>\n",
       "      <td>1.48</td>\n",
       "      <td>59.2</td>\n",
       "    </tr>\n",
       "    <tr>\n",
       "      <th>4</th>\n",
       "      <td>an-sap-s-1</td>\n",
       "      <td>1</td>\n",
       "      <td>2021-04-22 23:45:17 UTC</td>\n",
       "      <td>sda2</td>\n",
       "      <td>403.0</td>\n",
       "      <td>0.0</td>\n",
       "      <td>103168.0</td>\n",
       "      <td>256.0</td>\n",
       "      <td>1.00</td>\n",
       "      <td>2.45</td>\n",
       "      <td>1.82</td>\n",
       "      <td>73.2</td>\n",
       "    </tr>\n",
       "  </tbody>\n",
       "</table>\n",
       "</div>"
      ],
      "text/plain": [
       "   # hostname  interval                timestamp   DEV    tps  rkB/s  \\\n",
       "0  an-sap-s-1         1  2021-04-22 23:45:13 UTC  sda2  233.0    0.0   \n",
       "1  an-sap-s-1         1  2021-04-22 23:45:14 UTC  sda2  368.0    0.0   \n",
       "2  an-sap-s-1         1  2021-04-22 23:45:15 UTC  sda2  391.0    0.0   \n",
       "3  an-sap-s-1         1  2021-04-22 23:45:16 UTC  sda2  400.0    0.0   \n",
       "4  an-sap-s-1         1  2021-04-22 23:45:17 UTC  sda2  403.0    0.0   \n",
       "\n",
       "      wkB/s  areq-sz  aqu-sz  await  svctm  %util  \n",
       "0   59648.0    256.0    0.72   3.07   2.13   49.6  \n",
       "1   94208.0    256.0    1.06   2.91   1.92   70.8  \n",
       "2  100096.0    256.0    0.97   2.49   1.75   68.4  \n",
       "3  102400.0    256.0    0.82   2.05   1.48   59.2  \n",
       "4  103168.0    256.0    1.00   2.45   1.82   73.2  "
      ]
     },
     "execution_count": 48,
     "metadata": {},
     "output_type": "execute_result"
    }
   ],
   "source": [
    "s1_df.head()"
   ]
  },
  {
   "cell_type": "code",
   "execution_count": 49,
   "metadata": {},
   "outputs": [
    {
     "data": {
      "text/html": [
       "<div>\n",
       "<style scoped>\n",
       "    .dataframe tbody tr th:only-of-type {\n",
       "        vertical-align: middle;\n",
       "    }\n",
       "\n",
       "    .dataframe tbody tr th {\n",
       "        vertical-align: top;\n",
       "    }\n",
       "\n",
       "    .dataframe thead th {\n",
       "        text-align: right;\n",
       "    }\n",
       "</style>\n",
       "<table border=\"1\" class=\"dataframe\">\n",
       "  <thead>\n",
       "    <tr style=\"text-align: right;\">\n",
       "      <th></th>\n",
       "      <th># hostname</th>\n",
       "      <th>interval</th>\n",
       "      <th>timestamp</th>\n",
       "      <th>DEV</th>\n",
       "      <th>tps</th>\n",
       "      <th>rkB/s</th>\n",
       "      <th>wkB/s</th>\n",
       "      <th>areq-sz</th>\n",
       "      <th>aqu-sz</th>\n",
       "      <th>await</th>\n",
       "      <th>svctm</th>\n",
       "      <th>%util</th>\n",
       "    </tr>\n",
       "  </thead>\n",
       "  <tbody>\n",
       "    <tr>\n",
       "      <th>178</th>\n",
       "      <td>an-sap-s-1</td>\n",
       "      <td>1</td>\n",
       "      <td>2021-04-22 23:48:11 UTC</td>\n",
       "      <td>sda2</td>\n",
       "      <td>228.0</td>\n",
       "      <td>58368.0</td>\n",
       "      <td>0.0</td>\n",
       "      <td>256.0</td>\n",
       "      <td>23.15</td>\n",
       "      <td>96.84</td>\n",
       "      <td>4.39</td>\n",
       "      <td>100.0</td>\n",
       "    </tr>\n",
       "    <tr>\n",
       "      <th>179</th>\n",
       "      <td>an-sap-s-1</td>\n",
       "      <td>1</td>\n",
       "      <td>2021-04-22 23:48:12 UTC</td>\n",
       "      <td>sda2</td>\n",
       "      <td>234.0</td>\n",
       "      <td>59904.0</td>\n",
       "      <td>0.0</td>\n",
       "      <td>256.0</td>\n",
       "      <td>23.33</td>\n",
       "      <td>106.05</td>\n",
       "      <td>4.27</td>\n",
       "      <td>100.0</td>\n",
       "    </tr>\n",
       "    <tr>\n",
       "      <th>180</th>\n",
       "      <td>an-sap-s-1</td>\n",
       "      <td>1</td>\n",
       "      <td>2021-04-22 23:48:13 UTC</td>\n",
       "      <td>sda2</td>\n",
       "      <td>236.0</td>\n",
       "      <td>60416.0</td>\n",
       "      <td>0.0</td>\n",
       "      <td>256.0</td>\n",
       "      <td>19.76</td>\n",
       "      <td>85.86</td>\n",
       "      <td>4.24</td>\n",
       "      <td>100.0</td>\n",
       "    </tr>\n",
       "    <tr>\n",
       "      <th>181</th>\n",
       "      <td>an-sap-s-1</td>\n",
       "      <td>1</td>\n",
       "      <td>2021-04-22 23:48:14 UTC</td>\n",
       "      <td>sda2</td>\n",
       "      <td>181.0</td>\n",
       "      <td>46336.0</td>\n",
       "      <td>0.0</td>\n",
       "      <td>256.0</td>\n",
       "      <td>5.85</td>\n",
       "      <td>35.62</td>\n",
       "      <td>4.18</td>\n",
       "      <td>75.6</td>\n",
       "    </tr>\n",
       "    <tr>\n",
       "      <th>182</th>\n",
       "      <td>an-sap-s-1</td>\n",
       "      <td>1</td>\n",
       "      <td>2021-04-22 23:48:15 UTC</td>\n",
       "      <td>sda2</td>\n",
       "      <td>0.0</td>\n",
       "      <td>0.0</td>\n",
       "      <td>0.0</td>\n",
       "      <td>0.0</td>\n",
       "      <td>0.00</td>\n",
       "      <td>0.00</td>\n",
       "      <td>0.00</td>\n",
       "      <td>0.0</td>\n",
       "    </tr>\n",
       "  </tbody>\n",
       "</table>\n",
       "</div>"
      ],
      "text/plain": [
       "     # hostname  interval                timestamp   DEV    tps    rkB/s  \\\n",
       "178  an-sap-s-1         1  2021-04-22 23:48:11 UTC  sda2  228.0  58368.0   \n",
       "179  an-sap-s-1         1  2021-04-22 23:48:12 UTC  sda2  234.0  59904.0   \n",
       "180  an-sap-s-1         1  2021-04-22 23:48:13 UTC  sda2  236.0  60416.0   \n",
       "181  an-sap-s-1         1  2021-04-22 23:48:14 UTC  sda2  181.0  46336.0   \n",
       "182  an-sap-s-1         1  2021-04-22 23:48:15 UTC  sda2    0.0      0.0   \n",
       "\n",
       "     wkB/s  areq-sz  aqu-sz   await  svctm  %util  \n",
       "178    0.0    256.0   23.15   96.84   4.39  100.0  \n",
       "179    0.0    256.0   23.33  106.05   4.27  100.0  \n",
       "180    0.0    256.0   19.76   85.86   4.24  100.0  \n",
       "181    0.0    256.0    5.85   35.62   4.18   75.6  \n",
       "182    0.0      0.0    0.00    0.00   0.00    0.0  "
      ]
     },
     "execution_count": 49,
     "metadata": {},
     "output_type": "execute_result"
    }
   ],
   "source": [
    "s1_df.tail()"
   ]
  },
  {
   "cell_type": "code",
   "execution_count": 50,
   "metadata": {},
   "outputs": [
    {
     "data": {
      "text/html": [
       "<div>\n",
       "<style scoped>\n",
       "    .dataframe tbody tr th:only-of-type {\n",
       "        vertical-align: middle;\n",
       "    }\n",
       "\n",
       "    .dataframe tbody tr th {\n",
       "        vertical-align: top;\n",
       "    }\n",
       "\n",
       "    .dataframe thead th {\n",
       "        text-align: right;\n",
       "    }\n",
       "</style>\n",
       "<table border=\"1\" class=\"dataframe\">\n",
       "  <thead>\n",
       "    <tr style=\"text-align: right;\">\n",
       "      <th></th>\n",
       "      <th># hostname</th>\n",
       "      <th>interval</th>\n",
       "      <th>timestamp</th>\n",
       "      <th>DEV</th>\n",
       "      <th>tps</th>\n",
       "      <th>rkB/s</th>\n",
       "      <th>wkB/s</th>\n",
       "      <th>areq-sz</th>\n",
       "      <th>aqu-sz</th>\n",
       "      <th>await</th>\n",
       "      <th>svctm</th>\n",
       "      <th>%util</th>\n",
       "    </tr>\n",
       "  </thead>\n",
       "  <tbody>\n",
       "    <tr>\n",
       "      <th>0</th>\n",
       "      <td>an-sap-s-2</td>\n",
       "      <td>1</td>\n",
       "      <td>2021-04-22 23:45:13 UTC</td>\n",
       "      <td>sda2</td>\n",
       "      <td>230.0</td>\n",
       "      <td>0.0</td>\n",
       "      <td>58880.0</td>\n",
       "      <td>256.0</td>\n",
       "      <td>0.34</td>\n",
       "      <td>1.44</td>\n",
       "      <td>0.89</td>\n",
       "      <td>20.40</td>\n",
       "    </tr>\n",
       "    <tr>\n",
       "      <th>1</th>\n",
       "      <td>an-sap-s-2</td>\n",
       "      <td>1</td>\n",
       "      <td>2021-04-22 23:45:14 UTC</td>\n",
       "      <td>sda2</td>\n",
       "      <td>366.0</td>\n",
       "      <td>0.0</td>\n",
       "      <td>93696.0</td>\n",
       "      <td>256.0</td>\n",
       "      <td>0.53</td>\n",
       "      <td>1.46</td>\n",
       "      <td>1.07</td>\n",
       "      <td>39.20</td>\n",
       "    </tr>\n",
       "    <tr>\n",
       "      <th>2</th>\n",
       "      <td>an-sap-s-2</td>\n",
       "      <td>1</td>\n",
       "      <td>2021-04-22 23:45:15 UTC</td>\n",
       "      <td>sda2</td>\n",
       "      <td>392.0</td>\n",
       "      <td>0.0</td>\n",
       "      <td>100352.0</td>\n",
       "      <td>256.0</td>\n",
       "      <td>0.66</td>\n",
       "      <td>1.69</td>\n",
       "      <td>1.13</td>\n",
       "      <td>44.40</td>\n",
       "    </tr>\n",
       "    <tr>\n",
       "      <th>3</th>\n",
       "      <td>an-sap-s-2</td>\n",
       "      <td>1</td>\n",
       "      <td>2021-04-22 23:45:16 UTC</td>\n",
       "      <td>sda2</td>\n",
       "      <td>401.0</td>\n",
       "      <td>0.0</td>\n",
       "      <td>102656.0</td>\n",
       "      <td>256.0</td>\n",
       "      <td>0.76</td>\n",
       "      <td>1.91</td>\n",
       "      <td>1.35</td>\n",
       "      <td>54.00</td>\n",
       "    </tr>\n",
       "    <tr>\n",
       "      <th>4</th>\n",
       "      <td>an-sap-s-2</td>\n",
       "      <td>1</td>\n",
       "      <td>2021-04-22 23:45:17 UTC</td>\n",
       "      <td>sda2</td>\n",
       "      <td>400.0</td>\n",
       "      <td>0.0</td>\n",
       "      <td>102400.0</td>\n",
       "      <td>256.0</td>\n",
       "      <td>0.37</td>\n",
       "      <td>0.94</td>\n",
       "      <td>0.68</td>\n",
       "      <td>27.33</td>\n",
       "    </tr>\n",
       "  </tbody>\n",
       "</table>\n",
       "</div>"
      ],
      "text/plain": [
       "   # hostname  interval                timestamp   DEV    tps  rkB/s  \\\n",
       "0  an-sap-s-2         1  2021-04-22 23:45:13 UTC  sda2  230.0    0.0   \n",
       "1  an-sap-s-2         1  2021-04-22 23:45:14 UTC  sda2  366.0    0.0   \n",
       "2  an-sap-s-2         1  2021-04-22 23:45:15 UTC  sda2  392.0    0.0   \n",
       "3  an-sap-s-2         1  2021-04-22 23:45:16 UTC  sda2  401.0    0.0   \n",
       "4  an-sap-s-2         1  2021-04-22 23:45:17 UTC  sda2  400.0    0.0   \n",
       "\n",
       "      wkB/s  areq-sz  aqu-sz  await  svctm  %util  \n",
       "0   58880.0    256.0    0.34   1.44   0.89  20.40  \n",
       "1   93696.0    256.0    0.53   1.46   1.07  39.20  \n",
       "2  100352.0    256.0    0.66   1.69   1.13  44.40  \n",
       "3  102656.0    256.0    0.76   1.91   1.35  54.00  \n",
       "4  102400.0    256.0    0.37   0.94   0.68  27.33  "
      ]
     },
     "execution_count": 50,
     "metadata": {},
     "output_type": "execute_result"
    }
   ],
   "source": [
    "s2_df.head()"
   ]
  },
  {
   "cell_type": "code",
   "execution_count": 57,
   "metadata": {},
   "outputs": [
    {
     "data": {
      "text/plain": [
       "<AxesSubplot:>"
      ]
     },
     "execution_count": 57,
     "metadata": {},
     "output_type": "execute_result"
    },
    {
     "data": {
      "image/png": "[encoded data removed]",
      "text/plain": [
       "<Figure size 432x288 with 1 Axes>"
      ]
     },
     "metadata": {
      "needs_background": "light"
     },
     "output_type": "display_data"
    }
   ],
   "source": [
    "s1_df[\"tps\"].plot()"
   ]
  },
  {
   "cell_type": "code",
   "execution_count": 58,
   "metadata": {},
   "outputs": [
    {
     "data": {
      "text/plain": [
       "<AxesSubplot:>"
      ]
     },
     "execution_count": 58,
     "metadata": {},
     "output_type": "execute_result"
    },
    {
     "data": {
      "image/png": "[encoded data removed]",
      "text/plain": [
       "<Figure size 432x288 with 1 Axes>"
      ]
     },
     "metadata": {
      "needs_background": "light"
     },
     "output_type": "display_data"
    }
   ],
   "source": [
    "s1_df[[\"await\", \"tps\"]].plot()"
   ]
  },
  {
   "cell_type": "code",
   "execution_count": 54,
   "metadata": {},
   "outputs": [
    {
     "data": {
      "text/plain": [
       "<AxesSubplot:>"
      ]
     },
     "execution_count": 54,
     "metadata": {},
     "output_type": "execute_result"
    },
    {
     "data": {
      "image/png": "[encoded data removed]",
      "text/plain": [
       "<Figure size 432x288 with 1 Axes>"
      ]
     },
     "metadata": {
      "needs_background": "light"
     },
     "output_type": "display_data"
    }
   ],
   "source": [
    "s1_df[[\"rkB/s\", \"wkB/s\"]].plot()"
   ]
  },
  {
   "cell_type": "code",
   "execution_count": 55,
   "metadata": {
    "scrolled": true
   },
   "outputs": [
    {
     "data": {
      "text/plain": [
       "<AxesSubplot:>"
      ]
     },
     "execution_count": 55,
     "metadata": {},
     "output_type": "execute_result"
    },
    {
     "data": {
      "image/png": "[encoded data removed]",
      "text/plain": [
       "<Figure size 432x288 with 1 Axes>"
      ]
     },
     "metadata": {
      "needs_background": "light"
     },
     "output_type": "display_data"
    }
   ],
   "source": [
    "s2_df[[\"rkB/s\", \"wkB/s\"]].plot()"
   ]
  },
  {
   "cell_type": "code",
   "execution_count": null,
   "metadata": {},
   "outputs": [],
   "source": []
  },
  {
   "cell_type": "code",
   "execution_count": null,
   "metadata": {},
   "outputs": [],
   "source": []
  }
 ],
 "metadata": {
  "kernelspec": {
   "display_name": "Python 3",
   "language": "python",
   "name": "python3"
  },
  "language_info": {
   "codemirror_mode": {
    "name": "ipython",
    "version": 3
   },
   "file_extension": ".py",
   "mimetype": "text/x-python",
   "name": "python",
   "nbconvert_exporter": "python",
   "pygments_lexer": "ipython3",
   "version": "3.8.5"
  }
 },
 "nbformat": 4,
 "nbformat_minor": 4
}
